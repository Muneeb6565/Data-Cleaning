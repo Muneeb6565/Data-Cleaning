{
 "cells": [
  {
   "cell_type": "markdown",
   "id": "7bdd71d7",
   "metadata": {
    "papermill": {
     "duration": 0.005018,
     "end_time": "2022-12-27T14:49:07.405015",
     "exception": false,
     "start_time": "2022-12-27T14:49:07.399997",
     "status": "completed"
    },
    "tags": []
   },
   "source": [
    "**This notebook is an exercise in the [Data Cleaning](https://www.kaggle.com/learn/data-cleaning) course.  You can reference the tutorial at [this link](https://www.kaggle.com/alexisbcook/inconsistent-data-entry).**\n",
    "\n",
    "---\n"
   ]
  },
  {
   "cell_type": "markdown",
   "id": "99f298cc",
   "metadata": {
    "papermill": {
     "duration": 0.003896,
     "end_time": "2022-12-27T14:49:07.413110",
     "exception": false,
     "start_time": "2022-12-27T14:49:07.409214",
     "status": "completed"
    },
    "tags": []
   },
   "source": [
    "In this exercise, you'll apply what you learned in the **Inconsistent data entry** tutorial.\n",
    "\n",
    "# Setup\n",
    "\n",
    "The questions below will give you feedback on your work. Run the following cell to set up the feedback system."
   ]
  },
  {
   "cell_type": "code",
   "execution_count": 1,
   "id": "d6ec8b92",
   "metadata": {
    "execution": {
     "iopub.execute_input": "2022-12-27T14:49:07.423650Z",
     "iopub.status.busy": "2022-12-27T14:49:07.422730Z",
     "iopub.status.idle": "2022-12-27T14:49:07.577276Z",
     "shell.execute_reply": "2022-12-27T14:49:07.576186Z"
    },
    "papermill": {
     "duration": 0.1629,
     "end_time": "2022-12-27T14:49:07.580156",
     "exception": false,
     "start_time": "2022-12-27T14:49:07.417256",
     "status": "completed"
    },
    "tags": []
   },
   "outputs": [
    {
     "name": "stdout",
     "output_type": "stream",
     "text": [
      "Setup Complete\n"
     ]
    }
   ],
   "source": [
    "from learntools.core import binder\n",
    "binder.bind(globals())\n",
    "from learntools.data_cleaning.ex5 import *\n",
    "print(\"Setup Complete\")"
   ]
  },
  {
   "cell_type": "markdown",
   "id": "67d63d6a",
   "metadata": {
    "papermill": {
     "duration": 0.004365,
     "end_time": "2022-12-27T14:49:07.589296",
     "exception": false,
     "start_time": "2022-12-27T14:49:07.584931",
     "status": "completed"
    },
    "tags": []
   },
   "source": [
    "# Get our environment set up\n",
    "\n",
    "The first thing we'll need to do is load in the libraries and dataset we'll be using.  We use the same dataset from the tutorial."
   ]
  },
  {
   "cell_type": "code",
   "execution_count": 2,
   "id": "560955ad",
   "metadata": {
    "execution": {
     "iopub.execute_input": "2022-12-27T14:49:07.601009Z",
     "iopub.status.busy": "2022-12-27T14:49:07.600153Z",
     "iopub.status.idle": "2022-12-27T14:49:07.611866Z",
     "shell.execute_reply": "2022-12-27T14:49:07.611086Z"
    },
    "papermill": {
     "duration": 0.019525,
     "end_time": "2022-12-27T14:49:07.613867",
     "exception": false,
     "start_time": "2022-12-27T14:49:07.594342",
     "status": "completed"
    },
    "tags": []
   },
   "outputs": [],
   "source": [
    "# modules we'll use\n",
    "import pandas as pd\n",
    "import numpy as np\n",
    "\n",
    "# helpful modules\n",
    "import fuzzywuzzy\n",
    "from fuzzywuzzy import process\n",
    "import chardet\n",
    "\n",
    "# read in all our data\n",
    "professors = pd.read_csv(\"../input/pakistan-intellectual-capital/pakistan_intellectual_capital.csv\")\n",
    "\n",
    "# set seed for reproducibility\n",
    "np.random.seed(0)"
   ]
  },
  {
   "cell_type": "markdown",
   "id": "c65c55ed",
   "metadata": {
    "papermill": {
     "duration": 0.004219,
     "end_time": "2022-12-27T14:49:07.622753",
     "exception": false,
     "start_time": "2022-12-27T14:49:07.618534",
     "status": "completed"
    },
    "tags": []
   },
   "source": [
    "Next, we'll redo all of the work that we did in the tutorial."
   ]
  },
  {
   "cell_type": "code",
   "execution_count": 3,
   "id": "aae80371",
   "metadata": {
    "execution": {
     "iopub.execute_input": "2022-12-27T14:49:07.632950Z",
     "iopub.status.busy": "2022-12-27T14:49:07.632579Z",
     "iopub.status.idle": "2022-12-27T14:49:07.646129Z",
     "shell.execute_reply": "2022-12-27T14:49:07.645188Z"
    },
    "papermill": {
     "duration": 0.020847,
     "end_time": "2022-12-27T14:49:07.647897",
     "exception": false,
     "start_time": "2022-12-27T14:49:07.627050",
     "status": "completed"
    },
    "tags": []
   },
   "outputs": [
    {
     "name": "stdout",
     "output_type": "stream",
     "text": [
      "All done!\n"
     ]
    }
   ],
   "source": [
    "# convert to lower case\n",
    "professors['Country'] = professors['Country'].str.lower()\n",
    "# remove trailing white spaces\n",
    "professors['Country'] = professors['Country'].str.strip()\n",
    "\n",
    "# get the top 10 closest matches to \"south korea\"\n",
    "countries = professors['Country'].unique()\n",
    "matches = fuzzywuzzy.process.extract(\"south korea\", countries, limit=10, scorer=fuzzywuzzy.fuzz.token_sort_ratio)\n",
    "\n",
    "def replace_matches_in_column(df, column, string_to_match, min_ratio = 47):\n",
    "    # get a list of unique strings\n",
    "    strings = df[column].unique()\n",
    "    \n",
    "    # get the top 10 closest matches to our input string\n",
    "    matches = fuzzywuzzy.process.extract(string_to_match, strings, \n",
    "                                         limit=10, scorer=fuzzywuzzy.fuzz.token_sort_ratio)\n",
    "\n",
    "    # only get matches with a ratio > 90\n",
    "    close_matches = [matches[0] for matches in matches if matches[1] >= min_ratio]\n",
    "\n",
    "    # get the rows of all the close matches in our dataframe\n",
    "    rows_with_matches = df[column].isin(close_matches)\n",
    "\n",
    "    # replace all rows with close matches with the input matches \n",
    "    df.loc[rows_with_matches, column] = string_to_match\n",
    "    \n",
    "    # let us know the function's done\n",
    "    print(\"All done!\")\n",
    "    \n",
    "replace_matches_in_column(df=professors, column='Country', string_to_match=\"south korea\")\n",
    "countries = professors['Country'].unique()"
   ]
  },
  {
   "cell_type": "markdown",
   "id": "6a625b3b",
   "metadata": {
    "papermill": {
     "duration": 0.004216,
     "end_time": "2022-12-27T14:49:07.656706",
     "exception": false,
     "start_time": "2022-12-27T14:49:07.652490",
     "status": "completed"
    },
    "tags": []
   },
   "source": [
    "# 1) Examine another column\n",
    "\n",
    "Write code below to take a look at all the unique values in the \"Graduated from\" column."
   ]
  },
  {
   "cell_type": "code",
   "execution_count": 4,
   "id": "35aad086",
   "metadata": {
    "execution": {
     "iopub.execute_input": "2022-12-27T14:49:07.667049Z",
     "iopub.status.busy": "2022-12-27T14:49:07.666298Z",
     "iopub.status.idle": "2022-12-27T14:49:07.671543Z",
     "shell.execute_reply": "2022-12-27T14:49:07.670440Z"
    },
    "papermill": {
     "duration": 0.012379,
     "end_time": "2022-12-27T14:49:07.673389",
     "exception": false,
     "start_time": "2022-12-27T14:49:07.661010",
     "status": "completed"
    },
    "tags": []
   },
   "outputs": [],
   "source": [
    "# TODO: Your code here\n",
    "unis = professors['Graduated from'].unique()\n"
   ]
  },
  {
   "cell_type": "markdown",
   "id": "9ec452dc",
   "metadata": {
    "papermill": {
     "duration": 0.005401,
     "end_time": "2022-12-27T14:49:07.683306",
     "exception": false,
     "start_time": "2022-12-27T14:49:07.677905",
     "status": "completed"
    },
    "tags": []
   },
   "source": [
    "Do you notice any inconsistencies in the data?  Can any of the inconsistencies in the data be fixed by removing white spaces at the beginning and end of cells?\n",
    "\n",
    "Once you have answered these questions, run the code cell below to get credit for your work."
   ]
  },
  {
   "cell_type": "code",
   "execution_count": 5,
   "id": "e69d860a",
   "metadata": {
    "execution": {
     "iopub.execute_input": "2022-12-27T14:49:07.693442Z",
     "iopub.status.busy": "2022-12-27T14:49:07.693108Z",
     "iopub.status.idle": "2022-12-27T14:49:07.701386Z",
     "shell.execute_reply": "2022-12-27T14:49:07.700818Z"
    },
    "papermill": {
     "duration": 0.015162,
     "end_time": "2022-12-27T14:49:07.702920",
     "exception": false,
     "start_time": "2022-12-27T14:49:07.687758",
     "status": "completed"
    },
    "tags": []
   },
   "outputs": [
    {
     "data": {
      "application/javascript": [
       "parent.postMessage({\"jupyterEvent\": \"custom.exercise_interaction\", \"data\": {\"outcomeType\": 1, \"valueTowardsCompletion\": 0.3333333333333333, \"interactionType\": 1, \"questionType\": 4, \"questionId\": \"1_ExamineProvince\", \"learnToolsVersion\": \"0.3.4\", \"failureMessage\": \"\", \"exceptionClass\": \"\", \"trace\": \"\"}}, \"*\")"
      ],
      "text/plain": [
       "<IPython.core.display.Javascript object>"
      ]
     },
     "metadata": {},
     "output_type": "display_data"
    },
    {
     "data": {
      "text/markdown": [
       "<span style=\"color:#33cc33\">Correct:</span> \n",
       "\n",
       "There are inconsistencies that can be fixed by removing white spaces at the beginning and end of cells.  For instance, \"University of Central Florida\" and \" University of Central Florida\" both appear in the column."
      ],
      "text/plain": [
       "Correct: \n",
       "\n",
       "There are inconsistencies that can be fixed by removing white spaces at the beginning and end of cells.  For instance, \"University of Central Florida\" and \" University of Central Florida\" both appear in the column."
      ]
     },
     "metadata": {},
     "output_type": "display_data"
    }
   ],
   "source": [
    "# Check your answer (Run this code cell to receive credit!)\n",
    "q1.check()"
   ]
  },
  {
   "cell_type": "code",
   "execution_count": 6,
   "id": "8676cd45",
   "metadata": {
    "execution": {
     "iopub.execute_input": "2022-12-27T14:49:07.713584Z",
     "iopub.status.busy": "2022-12-27T14:49:07.713062Z",
     "iopub.status.idle": "2022-12-27T14:49:07.720007Z",
     "shell.execute_reply": "2022-12-27T14:49:07.719129Z"
    },
    "papermill": {
     "duration": 0.014112,
     "end_time": "2022-12-27T14:49:07.721765",
     "exception": false,
     "start_time": "2022-12-27T14:49:07.707653",
     "status": "completed"
    },
    "tags": []
   },
   "outputs": [
    {
     "data": {
      "application/javascript": [
       "parent.postMessage({\"jupyterEvent\": \"custom.exercise_interaction\", \"data\": {\"interactionType\": 2, \"questionType\": 4, \"questionId\": \"1_ExamineProvince\", \"learnToolsVersion\": \"0.3.4\", \"valueTowardsCompletion\": 0.0, \"failureMessage\": \"\", \"exceptionClass\": \"\", \"trace\": \"\", \"outcomeType\": 4}}, \"*\")"
      ],
      "text/plain": [
       "<IPython.core.display.Javascript object>"
      ]
     },
     "metadata": {},
     "output_type": "display_data"
    },
    {
     "data": {
      "text/markdown": [
       "<span style=\"color:#3366cc\">Hint:</span> Use `unis = professors['Graduated from'].unique()` to take a look at the unique values in the 'Graduated from' column. You may find it useful to sort the data before printing it."
      ],
      "text/plain": [
       "Hint: Use `unis = professors['Graduated from'].unique()` to take a look at the unique values in the 'Graduated from' column. You may find it useful to sort the data before printing it."
      ]
     },
     "metadata": {},
     "output_type": "display_data"
    }
   ],
   "source": [
    "# Line below will give you a hint\n",
    "q1.hint()"
   ]
  },
  {
   "cell_type": "markdown",
   "id": "cb624d76",
   "metadata": {
    "papermill": {
     "duration": 0.004518,
     "end_time": "2022-12-27T14:49:07.731124",
     "exception": false,
     "start_time": "2022-12-27T14:49:07.726606",
     "status": "completed"
    },
    "tags": []
   },
   "source": [
    "# 2) Do some text pre-processing\n",
    "\n",
    "Convert every entry in the \"Graduated from\" column in the `professors` DataFrame to remove white spaces at the beginning and end of cells."
   ]
  },
  {
   "cell_type": "code",
   "execution_count": 7,
   "id": "be6b10bd",
   "metadata": {
    "execution": {
     "iopub.execute_input": "2022-12-27T14:49:07.742210Z",
     "iopub.status.busy": "2022-12-27T14:49:07.741895Z",
     "iopub.status.idle": "2022-12-27T14:49:07.752118Z",
     "shell.execute_reply": "2022-12-27T14:49:07.751500Z"
    },
    "papermill": {
     "duration": 0.017877,
     "end_time": "2022-12-27T14:49:07.753698",
     "exception": false,
     "start_time": "2022-12-27T14:49:07.735821",
     "status": "completed"
    },
    "tags": []
   },
   "outputs": [
    {
     "data": {
      "application/javascript": [
       "parent.postMessage({\"jupyterEvent\": \"custom.exercise_interaction\", \"data\": {\"outcomeType\": 1, \"valueTowardsCompletion\": 0.3333333333333333, \"interactionType\": 1, \"questionType\": 1, \"questionId\": \"2_TextProcessing\", \"learnToolsVersion\": \"0.3.4\", \"failureMessage\": \"\", \"exceptionClass\": \"\", \"trace\": \"\"}}, \"*\")"
      ],
      "text/plain": [
       "<IPython.core.display.Javascript object>"
      ]
     },
     "metadata": {},
     "output_type": "display_data"
    },
    {
     "data": {
      "text/markdown": [
       "<span style=\"color:#33cc33\">Correct</span>"
      ],
      "text/plain": [
       "Correct"
      ]
     },
     "metadata": {},
     "output_type": "display_data"
    }
   ],
   "source": [
    "# TODO: Your code here\n",
    "# professors['Graduated from'] =  professors['Graduated from'].str.lower()\n",
    "professors['Graduated from'] = professors['Graduated from'].str.strip()\n",
    "# Check your answer\n",
    "q2.check()"
   ]
  },
  {
   "cell_type": "code",
   "execution_count": 8,
   "id": "3b047172",
   "metadata": {
    "execution": {
     "iopub.execute_input": "2022-12-27T14:49:07.765338Z",
     "iopub.status.busy": "2022-12-27T14:49:07.764623Z",
     "iopub.status.idle": "2022-12-27T14:49:07.773256Z",
     "shell.execute_reply": "2022-12-27T14:49:07.772699Z"
    },
    "papermill": {
     "duration": 0.015978,
     "end_time": "2022-12-27T14:49:07.774779",
     "exception": false,
     "start_time": "2022-12-27T14:49:07.758801",
     "status": "completed"
    },
    "tags": []
   },
   "outputs": [
    {
     "data": {
      "application/javascript": [
       "parent.postMessage({\"jupyterEvent\": \"custom.exercise_interaction\", \"data\": {\"interactionType\": 2, \"questionType\": 1, \"questionId\": \"2_TextProcessing\", \"learnToolsVersion\": \"0.3.4\", \"valueTowardsCompletion\": 0.0, \"failureMessage\": \"\", \"exceptionClass\": \"\", \"trace\": \"\", \"outcomeType\": 4}}, \"*\")"
      ],
      "text/plain": [
       "<IPython.core.display.Javascript object>"
      ]
     },
     "metadata": {},
     "output_type": "display_data"
    },
    {
     "data": {
      "text/markdown": [
       "<span style=\"color:#3366cc\">Hint:</span> In the tutorial, you did the same operation on a different column."
      ],
      "text/plain": [
       "Hint: In the tutorial, you did the same operation on a different column."
      ]
     },
     "metadata": {},
     "output_type": "display_data"
    },
    {
     "data": {
      "application/javascript": [
       "parent.postMessage({\"jupyterEvent\": \"custom.exercise_interaction\", \"data\": {\"interactionType\": 3, \"questionType\": 1, \"questionId\": \"2_TextProcessing\", \"learnToolsVersion\": \"0.3.4\", \"valueTowardsCompletion\": 0.0, \"failureMessage\": \"\", \"exceptionClass\": \"\", \"trace\": \"\", \"outcomeType\": 4}}, \"*\")"
      ],
      "text/plain": [
       "<IPython.core.display.Javascript object>"
      ]
     },
     "metadata": {},
     "output_type": "display_data"
    },
    {
     "data": {
      "text/markdown": [
       "<span style=\"color:#33cc99\">Solution:</span> \n",
       "```python\n",
       "professors['Graduated from'] = professors['Graduated from'].str.strip()\n",
       "\n",
       "```"
      ],
      "text/plain": [
       "Solution: \n",
       "```python\n",
       "professors['Graduated from'] = professors['Graduated from'].str.strip()\n",
       "\n",
       "```"
      ]
     },
     "metadata": {},
     "output_type": "display_data"
    }
   ],
   "source": [
    "# Lines below will give you a hint or solution code\n",
    "q2.hint()\n",
    "q2.solution()"
   ]
  },
  {
   "cell_type": "markdown",
   "id": "21fb6713",
   "metadata": {
    "papermill": {
     "duration": 0.005247,
     "end_time": "2022-12-27T14:49:07.785819",
     "exception": false,
     "start_time": "2022-12-27T14:49:07.780572",
     "status": "completed"
    },
    "tags": []
   },
   "source": [
    "# 3) Continue working with countries\n",
    "\n",
    "In the tutorial, we focused on cleaning up inconsistencies in the \"Country\" column.  Run the code cell below to view the list of unique values that we ended with."
   ]
  },
  {
   "cell_type": "code",
   "execution_count": 9,
   "id": "7b408526",
   "metadata": {
    "execution": {
     "iopub.execute_input": "2022-12-27T14:49:07.798370Z",
     "iopub.status.busy": "2022-12-27T14:49:07.797376Z",
     "iopub.status.idle": "2022-12-27T14:49:07.804354Z",
     "shell.execute_reply": "2022-12-27T14:49:07.803552Z"
    },
    "papermill": {
     "duration": 0.014911,
     "end_time": "2022-12-27T14:49:07.806052",
     "exception": false,
     "start_time": "2022-12-27T14:49:07.791141",
     "status": "completed"
    },
    "tags": []
   },
   "outputs": [
    {
     "data": {
      "text/plain": [
       "array(['australia', 'austria', 'canada', 'china', 'finland', 'france',\n",
       "       'germany', 'greece', 'hongkong', 'ireland', 'italy', 'japan',\n",
       "       'macau', 'malaysia', 'mauritius', 'netherland', 'new zealand',\n",
       "       'norway', 'pakistan', 'portugal', 'russian federation',\n",
       "       'saudi arabia', 'scotland', 'singapore', 'south korea', 'spain',\n",
       "       'sweden', 'thailand', 'turkey', 'uk', 'urbana', 'usa', 'usofa'],\n",
       "      dtype=object)"
      ]
     },
     "execution_count": 9,
     "metadata": {},
     "output_type": "execute_result"
    }
   ],
   "source": [
    "# get all the unique values in the 'City' column\n",
    "countries = professors['Country'].unique()\n",
    "\n",
    "# sort them alphabetically and then take a closer look\n",
    "countries.sort()\n",
    "countries"
   ]
  },
  {
   "cell_type": "markdown",
   "id": "e73507a8",
   "metadata": {
    "papermill": {
     "duration": 0.0053,
     "end_time": "2022-12-27T14:49:07.817011",
     "exception": false,
     "start_time": "2022-12-27T14:49:07.811711",
     "status": "completed"
    },
    "tags": []
   },
   "source": [
    "Take another look at the \"Country\" column and see if there's any more data cleaning we need to do.\n",
    "\n",
    "It looks like 'usa' and 'usofa' should be the same country.  Correct the \"Country\" column in the dataframe to replace 'usofa' with 'usa'.\n",
    "\n",
    "**Use the most recent version of the DataFrame (with the whitespaces at the beginning and end of cells removed) from question 2.**"
   ]
  },
  {
   "cell_type": "code",
   "execution_count": 10,
   "id": "24ffbd9d",
   "metadata": {
    "execution": {
     "iopub.execute_input": "2022-12-27T14:49:07.829197Z",
     "iopub.status.busy": "2022-12-27T14:49:07.828914Z",
     "iopub.status.idle": "2022-12-27T14:49:07.840658Z",
     "shell.execute_reply": "2022-12-27T14:49:07.839802Z"
    },
    "papermill": {
     "duration": 0.019863,
     "end_time": "2022-12-27T14:49:07.842507",
     "exception": false,
     "start_time": "2022-12-27T14:49:07.822644",
     "status": "completed"
    },
    "tags": []
   },
   "outputs": [
    {
     "name": "stdout",
     "output_type": "stream",
     "text": [
      "All done!\n"
     ]
    },
    {
     "data": {
      "application/javascript": [
       "parent.postMessage({\"jupyterEvent\": \"custom.exercise_interaction\", \"data\": {\"outcomeType\": 1, \"valueTowardsCompletion\": 0.3333333333333333, \"interactionType\": 1, \"questionType\": 1, \"questionId\": \"3_WorkingWithCities\", \"learnToolsVersion\": \"0.3.4\", \"failureMessage\": \"\", \"exceptionClass\": \"\", \"trace\": \"\"}}, \"*\")"
      ],
      "text/plain": [
       "<IPython.core.display.Javascript object>"
      ]
     },
     "metadata": {},
     "output_type": "display_data"
    },
    {
     "data": {
      "text/markdown": [
       "<span style=\"color:#33cc33\">Correct</span>"
      ],
      "text/plain": [
       "Correct"
      ]
     },
     "metadata": {},
     "output_type": "display_data"
    }
   ],
   "source": [
    "# TODO: Your code here!\n",
    "matches = fuzzywuzzy.process.extract(\"usa\", countries, limit=10, scorer=fuzzywuzzy.fuzz.token_sort_ratio)\n",
    "replace_matches_in_column(df=professors, column='Country', string_to_match=\"usa\", min_ratio=70)\n",
    "q3.check()"
   ]
  },
  {
   "cell_type": "code",
   "execution_count": 11,
   "id": "2780cfba",
   "metadata": {
    "execution": {
     "iopub.execute_input": "2022-12-27T14:49:07.854981Z",
     "iopub.status.busy": "2022-12-27T14:49:07.854729Z",
     "iopub.status.idle": "2022-12-27T14:49:07.861659Z",
     "shell.execute_reply": "2022-12-27T14:49:07.860811Z"
    },
    "papermill": {
     "duration": 0.014928,
     "end_time": "2022-12-27T14:49:07.863222",
     "exception": false,
     "start_time": "2022-12-27T14:49:07.848294",
     "status": "completed"
    },
    "tags": []
   },
   "outputs": [
    {
     "data": {
      "application/javascript": [
       "parent.postMessage({\"jupyterEvent\": \"custom.exercise_interaction\", \"data\": {\"interactionType\": 3, \"questionType\": 1, \"questionId\": \"3_WorkingWithCities\", \"learnToolsVersion\": \"0.3.4\", \"valueTowardsCompletion\": 0.0, \"failureMessage\": \"\", \"exceptionClass\": \"\", \"trace\": \"\", \"outcomeType\": 4}}, \"*\")"
      ],
      "text/plain": [
       "<IPython.core.display.Javascript object>"
      ]
     },
     "metadata": {},
     "output_type": "display_data"
    },
    {
     "data": {
      "text/markdown": [
       "<span style=\"color:#33cc99\">Solution:</span> \n",
       "```python\n",
       "matches = fuzzywuzzy.process.extract(\"usa\", countries, limit=10, scorer=fuzzywuzzy.fuzz.token_sort_ratio)\n",
       "replace_matches_in_column(df=professors, column='Country', string_to_match=\"usa\", min_ratio=70)\n",
       "\n",
       "```"
      ],
      "text/plain": [
       "Solution: \n",
       "```python\n",
       "matches = fuzzywuzzy.process.extract(\"usa\", countries, limit=10, scorer=fuzzywuzzy.fuzz.token_sort_ratio)\n",
       "replace_matches_in_column(df=professors, column='Country', string_to_match=\"usa\", min_ratio=70)\n",
       "\n",
       "```"
      ]
     },
     "metadata": {},
     "output_type": "display_data"
    }
   ],
   "source": [
    "# Lines below will give you a hint or solution code\n",
    "#q3.hint()\n",
    "q3.solution()"
   ]
  },
  {
   "cell_type": "markdown",
   "id": "03c52855",
   "metadata": {
    "papermill": {
     "duration": 0.00556,
     "end_time": "2022-12-27T14:49:07.874630",
     "exception": false,
     "start_time": "2022-12-27T14:49:07.869070",
     "status": "completed"
    },
    "tags": []
   },
   "source": [
    "# Congratulations!\n",
    "\n",
    "Congratulations for completing the **Data Cleaning** course on Kaggle Learn!\n",
    "\n",
    "To practice your new skills, you're encouraged to download and investigate some of [Kaggle's Datasets](https://www.kaggle.com/datasets)."
   ]
  },
  {
   "cell_type": "markdown",
   "id": "febfee69",
   "metadata": {
    "papermill": {
     "duration": 0.005498,
     "end_time": "2022-12-27T14:49:07.885933",
     "exception": false,
     "start_time": "2022-12-27T14:49:07.880435",
     "status": "completed"
    },
    "tags": []
   },
   "source": [
    "---\n",
    "\n",
    "\n",
    "\n",
    "\n",
    "*Have questions or comments? Visit the [course discussion forum](https://www.kaggle.com/learn/data-cleaning/discussion) to chat with other learners.*"
   ]
  }
 ],
 "metadata": {
  "kernelspec": {
   "display_name": "Python 3",
   "language": "python",
   "name": "python3"
  },
  "language_info": {
   "codemirror_mode": {
    "name": "ipython",
    "version": 3
   },
   "file_extension": ".py",
   "mimetype": "text/x-python",
   "name": "python",
   "nbconvert_exporter": "python",
   "pygments_lexer": "ipython3",
   "version": "3.7.12"
  },
  "papermill": {
   "default_parameters": {},
   "duration": 7.566393,
   "end_time": "2022-12-27T14:49:08.411489",
   "environment_variables": {},
   "exception": null,
   "input_path": "__notebook__.ipynb",
   "output_path": "__notebook__.ipynb",
   "parameters": {},
   "start_time": "2022-12-27T14:49:00.845096",
   "version": "2.3.4"
  }
 },
 "nbformat": 4,
 "nbformat_minor": 5
}
